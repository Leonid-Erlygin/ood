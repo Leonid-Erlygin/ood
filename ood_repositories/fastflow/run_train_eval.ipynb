{
 "cells": [
  {
   "cell_type": "code",
   "execution_count": 2,
   "metadata": {},
   "outputs": [
    {
     "data": {
      "text/plain": [
       "True"
      ]
     },
     "execution_count": 2,
     "metadata": {},
     "output_type": "execute_result"
    }
   ],
   "source": [
    "import sys\n",
    "import warnings\n",
    "\n",
    "sys.path.append(\"/workspaces/ood/\")\n",
    "%load_ext autoreload\n",
    "%autoreload 2\n",
    "warnings.filterwarnings(\"ignore\")\n",
    "from torch.utils.data import DataLoader\n",
    "from train import FastflowTrainer\n",
    "from omegaconf import OmegaConf\n",
    "import numpy as np\n",
    "import torch\n",
    "from ood.ood_metrics import get_measures\n",
    "from ood.utils import prettify_value\n",
    "from anomalib.models.fastflow.model import FastflowModel, FastflowLightning\n",
    "from tqdm import tqdm\n",
    "from anomalib.config import get_configurable_parameters\n",
    "from anomalib.data import get_datamodule\n",
    "from anomalib.models import get_model\n",
    "from albumentations.pytorch import ToTensorV2\n",
    "import albumentations as A\n",
    "from ood.draw import draw_score_distr_plot\n",
    "import matplotlib.pyplot as plt\n",
    "from anomalib.data.transforms import PreProcessor\n",
    "from anomalib.data.mvtec import MVTec\n",
    "from data import FeaturesTrainDataset, FeaturesDatasetOOD\n",
    "\n",
    "device = torch.device(\"cuda\")\n",
    "torch.cuda.is_available()"
   ]
  },
  {
   "cell_type": "code",
   "execution_count": 3,
   "metadata": {},
   "outputs": [
    {
     "data": {
      "text/plain": [
       "1"
      ]
     },
     "execution_count": 3,
     "metadata": {},
     "output_type": "execute_result"
    }
   ],
   "source": [
    "torch.cuda.set_device(1)\n",
    "torch.cuda.current_device()"
   ]
  },
  {
   "cell_type": "code",
   "execution_count": 8,
   "metadata": {},
   "outputs": [],
   "source": [
    "config = get_configurable_parameters(\n",
    "    model_config_path=\"/workspaces/ood/anomalib/anomalib/models/fastflow/config.yaml\",\n",
    ")"
   ]
  },
  {
   "cell_type": "code",
   "execution_count": 5,
   "metadata": {},
   "outputs": [],
   "source": [
    "# pre_process = PreProcessor(image_size=(config.dataset.image_size[0], config.dataset.image_size[0]))\n",
    "height = 32\n",
    "width = height\n",
    "pre_process = A.Compose(\n",
    "    [\n",
    "        A.Resize(height=height, width=width, always_apply=True),\n",
    "        A.Normalize(mean=(0.485, 0.456, 0.406), std=(0.229, 0.224, 0.225)),\n",
    "        ToTensorV2(),\n",
    "    ]\n",
    ")\n",
    "pre_process_raw = A.Compose(\n",
    "    [\n",
    "        A.Resize(height=height, width=width, always_apply=True),\n",
    "    ]\n",
    ")"
   ]
  },
  {
   "cell_type": "code",
   "execution_count": 6,
   "metadata": {},
   "outputs": [],
   "source": [
    "test_data = MVTec(\n",
    "    root=config.dataset.path,\n",
    "    category=config.dataset.category,\n",
    "    split=\"test\",\n",
    "    pre_process=pre_process,\n",
    "    task=config.dataset.task,\n",
    ")\n",
    "test_data_raw = MVTec(\n",
    "    root=config.dataset.path,\n",
    "    category=config.dataset.category,\n",
    "    split=\"test\",\n",
    "    pre_process=pre_process_raw,\n",
    "    task=config.dataset.task,\n",
    ")\n",
    "train_data = MVTec(\n",
    "    root=config.dataset.path,\n",
    "    category=config.dataset.category,\n",
    "    split=\"train\",\n",
    "    pre_process=pre_process,\n",
    "    task=config.dataset.task,\n",
    ")"
   ]
  },
  {
   "cell_type": "code",
   "execution_count": 13,
   "metadata": {},
   "outputs": [
    {
     "name": "stdout",
     "output_type": "stream",
     "text": [
      "pool dims [2048]\n",
      "CNF coder: 2048\n"
     ]
    },
    {
     "data": {
      "text/plain": [
       "<All keys matched successfully>"
      ]
     },
     "execution_count": 13,
     "metadata": {},
     "output_type": "execute_result"
    }
   ],
   "source": [
    "model = get_model(config).to(device)\n",
    "model.load_state_dict(\n",
    "    torch.load(\n",
    "        \"/workspaces/ood/anomalib/results/fastflow/mvtec/ood/weights/model.ckpt\"\n",
    "    )[\"state_dict\"]\n",
    ")"
   ]
  },
  {
   "cell_type": "markdown",
   "metadata": {},
   "source": [
    "### Compute scores"
   ]
  },
  {
   "cell_type": "code",
   "execution_count": 22,
   "metadata": {},
   "outputs": [
    {
     "name": "stderr",
     "output_type": "stream",
     "text": [
      "100%|██████████| 36032/36032 [13:43<00:00, 43.73it/s]\n"
     ]
    }
   ],
   "source": [
    "in_anomaly_scores = []\n",
    "out_anomaly_scores = []\n",
    "model.eval()\n",
    "for sample_idx in tqdm(range(len(test_data))):\n",
    "    sample = test_data[sample_idx]\n",
    "    image = torch.unsqueeze(torch.tensor(sample[\"image\"]).float().to(device), dim=0)\n",
    "    label = sample[\"label\"]\n",
    "    decoder_log_prob, _ = model(image)\n",
    "    anomaly_score = float(decoder_log_prob.detach().cpu().numpy())\n",
    "    if label == 0:\n",
    "        in_anomaly_scores.append(anomaly_score)\n",
    "    else:\n",
    "        out_anomaly_scores.append(anomaly_score)"
   ]
  },
  {
   "cell_type": "code",
   "execution_count": 23,
   "metadata": {},
   "outputs": [],
   "source": [
    "def trans(a):\n",
    "    a = np.array(a)\n",
    "    return -a\n",
    "\n",
    "\n",
    "in_anomaly_scores_a = trans(in_anomaly_scores)\n",
    "out_anomaly_scores_a = trans(out_anomaly_scores)"
   ]
  },
  {
   "cell_type": "code",
   "execution_count": 24,
   "metadata": {},
   "outputs": [
    {
     "data": {
      "text/plain": [
       "3.6234153509140015"
      ]
     },
     "execution_count": 24,
     "metadata": {},
     "output_type": "execute_result"
    }
   ],
   "source": [
    "np.median(in_anomaly_scores_a)"
   ]
  },
  {
   "cell_type": "code",
   "execution_count": 25,
   "metadata": {},
   "outputs": [
    {
     "data": {
      "text/plain": [
       "-7.353133201599121"
      ]
     },
     "execution_count": 25,
     "metadata": {},
     "output_type": "execute_result"
    }
   ],
   "source": [
    "np.median(out_anomaly_scores_a)"
   ]
  },
  {
   "cell_type": "code",
   "execution_count": 26,
   "metadata": {},
   "outputs": [],
   "source": [
    "# scores_distr = {\n",
    "#     \"cifar\": -np.log(in_anomaly_scores_a),\n",
    "#     \"svhn\": -np.log(out_anomaly_scores_a),\n",
    "# }\n",
    "scores_distr = {\n",
    "    \"cifar\": in_anomaly_scores_a,\n",
    "    \"svhn\": out_anomaly_scores_a,\n",
    "}"
   ]
  },
  {
   "cell_type": "code",
   "execution_count": 27,
   "metadata": {},
   "outputs": [
    {
     "data": {
      "image/png": "[encoded data removed]",
      "text/plain": [
       "<Figure size 864x576 with 1 Axes>"
      ]
     },
     "metadata": {},
     "output_type": "display_data"
    }
   ],
   "source": [
    "model_name = \"fastflow\"\n",
    "\n",
    "draw_score_distr_plot(\n",
    "    scores_distr=scores_distr,\n",
    "    score_type=\"fastflow\",\n",
    "    model_name=model_name,\n",
    "    in_data_name=\"cifar\",\n",
    "    out_data_name=\"svhn\",\n",
    ")"
   ]
  },
  {
   "cell_type": "code",
   "execution_count": 28,
   "metadata": {},
   "outputs": [
    {
     "name": "stdout",
     "output_type": "stream",
     "text": [
      " fastflow softmax scores: \n",
      " auroc 0.86350\n",
      " aupr  0.71128\n",
      " FPR95 0.47814\n"
     ]
    }
   ],
   "source": [
    "auroc, aupr, fpr = get_measures(scores_distr[\"cifar\"], scores_distr[\"svhn\"])\n",
    "auroc, aupr, fpr = prettify_value((auroc, aupr, fpr), num_round=5, ljust_num=7)\n",
    "\n",
    "print(f\" {model_name} softmax scores: \\n auroc {auroc}\\n aupr  {aupr}\\n FPR95 {fpr}\")"
   ]
  },
  {
   "cell_type": "markdown",
   "metadata": {},
   "source": [
    "### Vis model pred"
   ]
  },
  {
   "cell_type": "code",
   "execution_count": 20,
   "metadata": {},
   "outputs": [
    {
     "data": {
      "text/plain": [
       "<matplotlib.image.AxesImage at 0x7fba0563e670>"
      ]
     },
     "execution_count": 20,
     "metadata": {},
     "output_type": "execute_result"
    },
    {
     "data": {
      "image/png": "[encoded data removed]",
      "text/plain": [
       "<Figure size 720x1080 with 2 Axes>"
      ]
     },
     "metadata": {
      "needs_background": "light"
     },
     "output_type": "display_data"
    }
   ],
   "source": [
    "plt.figure(figsize=(10, 15))\n",
    "idx = 20000\n",
    "model.eval()\n",
    "image = torch.unsqueeze(torch.tensor(test_data[idx][\"image\"]).float().to(device), dim=0)\n",
    "_, out = model(image)\n",
    "ax1 = plt.subplot(121)\n",
    "ax1.imshow(out.detach().cpu())\n",
    "ax2 = plt.subplot(122)\n",
    "# image_to_show = np.moveaxis(test_data[5]['image'], 0, -1)\n",
    "ax2.imshow(test_data_raw[idx][\"image\"])"
   ]
  },
  {
   "cell_type": "code",
   "execution_count": null,
   "metadata": {},
   "outputs": [],
   "source": []
  }
 ],
 "metadata": {
  "interpreter": {
   "hash": "d4d1e4263499bec80672ea0156c357c1ee493ec2b1c70f0acce89fc37c4a6abe"
  },
  "kernelspec": {
   "display_name": "Python 3.8.10 ('base')",
   "language": "python",
   "name": "python3"
  },
  "language_info": {
   "codemirror_mode": {
    "name": "ipython",
    "version": 3
   },
   "file_extension": ".py",
   "mimetype": "text/x-python",
   "name": "python",
   "nbconvert_exporter": "python",
   "pygments_lexer": "ipython3",
   "version": "3.8.10"
  },
  "orig_nbformat": 4
 },
 "nbformat": 4,
 "nbformat_minor": 2
}
