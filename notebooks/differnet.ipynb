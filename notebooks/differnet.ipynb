{
 "cells": [
  {
   "cell_type": "code",
   "execution_count": 1,
   "metadata": {},
   "outputs": [
    {
     "name": "stderr",
     "output_type": "stream",
     "text": [
      "/opt/conda/lib/python3.8/site-packages/torch/package/_mock_zipreader.py:17: UserWarning: Failed to initialize NumPy: module compiled against API version 0xe but this version of numpy is 0xd (Triggered internally at  ../torch/csrc/utils/tensor_numpy.cpp:67.)\n",
      "  _dtype_to_storage = {data_type(0).dtype: data_type for data_type in _storages}\n"
     ]
    },
    {
     "data": {
      "text/plain": [
       "True"
      ]
     },
     "execution_count": 1,
     "metadata": {},
     "output_type": "execute_result"
    }
   ],
   "source": [
    "import sys\n",
    "import torch\n",
    "from torchsummary import summary\n",
    "import torchvision\n",
    "\n",
    "sys.path.append(\"/workspaces/ood/\")\n",
    "\n",
    "from ood.models import DifferNet\n",
    "\n",
    "import warnings\n",
    "from tqdm import tqdm\n",
    "import os\n",
    "import shutil\n",
    "warnings.filterwarnings(\"ignore\")\n",
    "%load_ext autoreload\n",
    "%autoreload 2\n",
    "device = torch.device(\"cuda\")\n",
    "torch.cuda.is_available()"
   ]
  },
  {
   "cell_type": "code",
   "execution_count": 2,
   "metadata": {},
   "outputs": [],
   "source": [
    "download = False\n",
    "cifar_data_train = torchvision.datasets.CIFAR10(\"../data/cifar10\", download=download)\n",
    "cifar_data_test = torchvision.datasets.CIFAR10(\n",
    "    \"../data/cifar10\", download=download, train=False\n",
    ")\n",
    "\n",
    "svhn_data_train = torchvision.datasets.SVHN(\"../data/svhn\", download=download)\n",
    "svhn_data_test = torchvision.datasets.SVHN(\n",
    "    \"../data/svhn\", download=download, split=\"test\"\n",
    ")"
   ]
  },
  {
   "cell_type": "code",
   "execution_count": 7,
   "metadata": {},
   "outputs": [],
   "source": [
    "ds_path = '/workspaces/ood/data/cifar10_dataset_small/ood/'\n",
    "shutil.rmtree(ds_path, ignore_errors=True)\n",
    "\n",
    "os.makedirs(os.path.join(ds_path,'train/good/'))\n",
    "os.makedirs(os.path.join(ds_path,'test/good/'))\n",
    "os.makedirs(os.path.join(ds_path,'test/anomaly/'))"
   ]
  },
  {
   "cell_type": "code",
   "execution_count": 8,
   "metadata": {},
   "outputs": [
    {
     "name": "stderr",
     "output_type": "stream",
     "text": [
      "50000it [00:05, 9341.49it/s] \n"
     ]
    }
   ],
   "source": [
    "max_count = 1000\n",
    "label_counts = {i:0 for i in range(10)}\n",
    "for i, (image, label) in tqdm(enumerate(cifar_data_train)):\n",
    "    label_counts[label]+=1\n",
    "    if label_counts[label] > max_count:\n",
    "        continue\n",
    "    image.save(f'/workspaces/ood/data/cifar10_dataset_small/ood/train/good/{i}_{label}.png', \"PNG\")"
   ]
  },
  {
   "cell_type": "code",
   "execution_count": 9,
   "metadata": {},
   "outputs": [
    {
     "name": "stderr",
     "output_type": "stream",
     "text": [
      "10000it [00:00, 13751.48it/s]\n"
     ]
    }
   ],
   "source": [
    "max_count = 100\n",
    "label_counts = {i:0 for i in range(10)}\n",
    "for i, (image, label) in tqdm(enumerate(cifar_data_test)):\n",
    "    label_counts[label]+=1\n",
    "    if label_counts[label] > max_count:\n",
    "        continue\n",
    "    image.save(f'/workspaces/ood/data/cifar10_dataset_small/ood/test/good/{i}_{label}.png', \"PNG\")"
   ]
  },
  {
   "cell_type": "code",
   "execution_count": 10,
   "metadata": {},
   "outputs": [
    {
     "name": "stderr",
     "output_type": "stream",
     "text": [
      "26032it [00:01, 19658.73it/s]\n"
     ]
    }
   ],
   "source": [
    "max_count = 100\n",
    "label_counts = {i:0 for i in range(10)}\n",
    "for i, (image, label) in tqdm(enumerate(svhn_data_test)):\n",
    "    label_counts[label]+=1\n",
    "    if label_counts[label] > max_count:\n",
    "        continue\n",
    "    image.save(f'/workspaces/ood/data/cifar10_dataset_small/ood/test/anomaly/{i}_{label}.png', \"PNG\")"
   ]
  },
  {
   "cell_type": "code",
   "execution_count": null,
   "metadata": {},
   "outputs": [],
   "source": []
  }
 ],
 "metadata": {
  "interpreter": {
   "hash": "d4d1e4263499bec80672ea0156c357c1ee493ec2b1c70f0acce89fc37c4a6abe"
  },
  "kernelspec": {
   "display_name": "Python 3.8.10 ('base')",
   "language": "python",
   "name": "python3"
  },
  "language_info": {
   "codemirror_mode": {
    "name": "ipython",
    "version": 3
   },
   "file_extension": ".py",
   "mimetype": "text/x-python",
   "name": "python",
   "nbconvert_exporter": "python",
   "pygments_lexer": "ipython3",
   "version": "3.8.10"
  },
  "orig_nbformat": 4
 },
 "nbformat": 4,
 "nbformat_minor": 2
}
