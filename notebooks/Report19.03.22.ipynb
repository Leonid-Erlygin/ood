{
 "cells": [
  {
   "cell_type": "markdown",
   "metadata": {},
   "source": [
    "### Поставленная задача\n",
    "Для эмбеддингов трёх моделей (supervised, MoCoV2, Byol) решить задачу OOD detection используя IsolationForest и FastFlow на наборе данных cifar10 vs svhn\n"
   ]
  },
  {
   "cell_type": "markdown",
   "metadata": {},
   "source": []
  }
 ],
 "metadata": {
  "language_info": {
   "name": "python"
  },
  "orig_nbformat": 4
 },
 "nbformat": 4,
 "nbformat_minor": 2
}
