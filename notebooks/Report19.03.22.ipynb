{
 "cells": [
  {
   "cell_type": "markdown",
   "metadata": {},
   "source": [
    "### Поставленная задача\n",
    "Для эмбеддингов трёх моделей (supervised, MoCoV2, Byol) решить задачу OOD detection используя IsolationForest и FastFlow на наборе данных cifar10 vs svhn\n"
   ]
  },
  {
   "cell_type": "markdown",
   "metadata": {},
   "source": [
    "### Linear classification model accuracy on cifar10 test\n",
    "\n",
    "| backbone                        | accuracy |\n",
    "|---------------------------------|----------|\n",
    "| resnet50 ImageNet pretrain      | 0.8804   |\n",
    "| resnet50 MoCo V2                | 0.8383   |\n",
    "| resnet50 BYOL                   | 0.9048   |\n",
    "| WideResNet (trained on cifar10) | 0.9484   |"
   ]
  },
  {
   "cell_type": "markdown",
   "metadata": {},
   "source": [
    "Reported accuracy in BYOL paper is  0.9130"
   ]
  },
  {
   "cell_type": "markdown",
   "metadata": {},
   "source": [
    "### Linear classification model traiden on embeddings of cifar10. OOD dataset is svhn\n",
    "\n",
    "| backbone                        | score type | AUC        | FPR95      |\n",
    "|---------------------------------|------------|------------|------------|\n",
    "| resnet50 ImageNet pretrain      | softmax    | 0.9196     | 0.4687     |\n",
    "| resnet50 ImageNet pretrain      | energy     | 0.9424     | 0.3614     |\n",
    "| resnet50 MoCo V2                | softmax    | 0.6345     | 0.9539     |\n",
    "| resnet50 MoCo V2                | energy     | 0.5745     | 0.9861     |\n",
    "| resnet50 BYOL                   | softmax    | 0.9440     | 0.3344     |\n",
    "| resnet50 BYOL                   | energy     | **0.9559** | **0.2370** |\n",
    "| WideResNet (trained on cifar10) | softmax    | 0.9189     | 0.4849     |\n",
    "| WideResNet (trained on cifar10) | energy     | 0.9096     | 0.3559     |"
   ]
  },
  {
   "cell_type": "markdown",
   "metadata": {},
   "source": [
    "### Models traiden on embeddings of cifar10 (without labels). OOD dataset is svhn"
   ]
  },
  {
   "cell_type": "markdown",
   "metadata": {},
   "source": [
    "| backbone                   | model            | AUC        | FPR95      |\n",
    "|----------------------------|------------------|------------|------------|\n",
    "| resnet50 ImageNet pretrain | Isolation Forest | 0.8037     | 0.5857     |\n",
    "| resnet50 MoCo V2           | Isolation Forest | 0.3681     | 0.9999     |\n",
    "| resnet50 BYOL              | Isolation Forest | **0.8972** | **0.4192** |\n",
    "| resnet50 BYOL              | Fastflow         | 0.86939    | 0.48901    |"
   ]
  },
  {
   "cell_type": "markdown",
   "metadata": {},
   "source": [
    "[Fastflow train run](https://wandb.ai/aspek/mvtec/runs/2ujpbzp7?workspace=user-aspek)"
   ]
  }
 ],
 "metadata": {
  "interpreter": {
   "hash": "916dbcbb3f70747c44a77c7bcd40155683ae19c65e1c03b4aa3499c5328201f1"
  },
  "kernelspec": {
   "display_name": "Python 3.8.10 64-bit",
   "language": "python",
   "name": "python3"
  },
  "language_info": {
   "codemirror_mode": {
    "name": "ipython",
    "version": 3
   },
   "file_extension": ".py",
   "mimetype": "text/x-python",
   "name": "python",
   "nbconvert_exporter": "python",
   "pygments_lexer": "ipython3",
   "version": "3.8.10"
  },
  "orig_nbformat": 4
 },
 "nbformat": 4,
 "nbformat_minor": 2
}
