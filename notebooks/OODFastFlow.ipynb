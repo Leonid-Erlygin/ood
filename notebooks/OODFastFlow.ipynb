{
 "cells": [
  {
   "cell_type": "code",
   "execution_count": 1,
   "metadata": {},
   "outputs": [
    {
     "data": {
      "text/plain": [
       "1"
      ]
     },
     "execution_count": 1,
     "metadata": {},
     "output_type": "execute_result"
    }
   ],
   "source": [
    "import sys\n",
    "import warnings\n",
    "\n",
    "sys.path.append(\"/workspaces/ood/\")\n",
    "%load_ext autoreload\n",
    "%autoreload 2\n",
    "warnings.filterwarnings(\"ignore\")\n",
    "\n",
    "import torch\n",
    "from albumentations.pytorch import ToTensorV2\n",
    "import albumentations as A\n",
    "\n",
    "from anomalib.config import get_configurable_parameters\n",
    "from anomalib.models import get_model\n",
    "from anomalib.data.mvtec import MVTec\n",
    "\n",
    "from ood.draw import draw_score_distr_plot\n",
    "from ood.eval import make_predictions_fastflow\n",
    "from ood.ood_metrics import get_measures\n",
    "from ood.utils import prettify_value\n",
    "\n",
    "device = torch.device(\"cuda\")\n",
    "torch.cuda.is_available()\n",
    "torch.cuda.set_device(1)\n",
    "torch.cuda.current_device()"
   ]
  },
  {
   "cell_type": "markdown",
   "metadata": {},
   "source": [
    "### BYOL evaluation"
   ]
  },
  {
   "cell_type": "code",
   "execution_count": 2,
   "metadata": {},
   "outputs": [],
   "source": [
    "config = get_configurable_parameters(\n",
    "    model_config_path=\"/workspaces/ood/anomalib/anomalib/models/fastflow/config.yaml\",\n",
    ")"
   ]
  },
  {
   "cell_type": "code",
   "execution_count": 3,
   "metadata": {},
   "outputs": [],
   "source": [
    "pre_process = A.Compose(\n",
    "    [\n",
    "        A.Resize(height=32, width=32, always_apply=True),\n",
    "        A.Normalize(mean=(0.485, 0.456, 0.406), std=(0.229, 0.224, 0.225)),\n",
    "        ToTensorV2(),\n",
    "    ]\n",
    ")"
   ]
  },
  {
   "cell_type": "code",
   "execution_count": 4,
   "metadata": {},
   "outputs": [],
   "source": [
    "test_data = MVTec(\n",
    "    root=\"/workspaces/ood/data/cifar10_full_size\",\n",
    "    category=\"ood\",\n",
    "    split=\"test\",\n",
    "    pre_process=pre_process,\n",
    "    task=\"classification\",\n",
    ")"
   ]
  },
  {
   "cell_type": "code",
   "execution_count": 5,
   "metadata": {},
   "outputs": [
    {
     "name": "stdout",
     "output_type": "stream",
     "text": [
      "pool dims [2048]\n",
      "CNF coder: 2048\n"
     ]
    },
    {
     "data": {
      "text/plain": [
       "<All keys matched successfully>"
      ]
     },
     "execution_count": 5,
     "metadata": {},
     "output_type": "execute_result"
    }
   ],
   "source": [
    "model = get_model(config).to(device)\n",
    "model.load_state_dict(\n",
    "    torch.load(\"/workspaces/ood/data/models/byol_fastflow_long_train.ckpt\")[\n",
    "        \"state_dict\"\n",
    "    ]\n",
    ")"
   ]
  },
  {
   "cell_type": "code",
   "execution_count": 6,
   "metadata": {},
   "outputs": [
    {
     "name": "stderr",
     "output_type": "stream",
     "text": [
      "100%|██████████| 36032/36032 [14:39<00:00, 40.97it/s]\n"
     ]
    }
   ],
   "source": [
    "in_scores, out_scores = make_predictions_fastflow(\n",
    "    model=model, dataset=test_data, device=device\n",
    ")\n",
    "scores_distr = {\n",
    "    \"cifar\": in_scores,\n",
    "    \"svhn\": out_scores,\n",
    "}"
   ]
  },
  {
   "cell_type": "code",
   "execution_count": 7,
   "metadata": {},
   "outputs": [
    {
     "data": {
      "image/png": "[encoded data removed]",
      "text/plain": [
       "<Figure size 864x576 with 1 Axes>"
      ]
     },
     "metadata": {},
     "output_type": "display_data"
    }
   ],
   "source": [
    "model_name = \"byol\"\n",
    "\n",
    "draw_score_distr_plot(\n",
    "    scores_distr=scores_distr,\n",
    "    score_type=\"fastflow\",\n",
    "    model_name=model_name,\n",
    "    in_data_name=\"cifar\",\n",
    "    out_data_name=\"svhn\",\n",
    ")"
   ]
  },
  {
   "cell_type": "code",
   "execution_count": 8,
   "metadata": {},
   "outputs": [
    {
     "name": "stdout",
     "output_type": "stream",
     "text": [
      " byol softmax scores: \n",
      " auroc 0.86939\n",
      " aupr  0.73948\n",
      " FPR95 0.48901\n"
     ]
    }
   ],
   "source": [
    "auroc, aupr, fpr = get_measures(scores_distr[\"cifar\"], scores_distr[\"svhn\"])\n",
    "auroc, aupr, fpr = prettify_value((auroc, aupr, fpr), num_round=5, ljust_num=7)\n",
    "\n",
    "print(f\" {model_name} softmax scores: \\n auroc {auroc}\\n aupr  {aupr}\\n FPR95 {fpr}\")"
   ]
  },
  {
   "cell_type": "code",
   "execution_count": null,
   "metadata": {},
   "outputs": [],
   "source": []
  }
 ],
 "metadata": {
  "interpreter": {
   "hash": "d4d1e4263499bec80672ea0156c357c1ee493ec2b1c70f0acce89fc37c4a6abe"
  },
  "kernelspec": {
   "display_name": "Python 3.8.10 ('base')",
   "language": "python",
   "name": "python3"
  },
  "language_info": {
   "codemirror_mode": {
    "name": "ipython",
    "version": 3
   },
   "file_extension": ".py",
   "mimetype": "text/x-python",
   "name": "python",
   "nbconvert_exporter": "python",
   "pygments_lexer": "ipython3",
   "version": "3.8.10"
  },
  "orig_nbformat": 4
 },
 "nbformat": 4,
 "nbformat_minor": 2
}
